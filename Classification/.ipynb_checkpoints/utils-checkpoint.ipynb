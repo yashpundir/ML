{
 "cells": [
  {
   "cell_type": "code",
   "execution_count": 1,
   "metadata": {},
   "outputs": [],
   "source": [
    "def accuracy(tp, tn, total):\n",
    "    # Overall, how often is the classifier correct?\n",
    "    # (tp + tn)/total\n",
    "    return (tp+tn)/total\n",
    "\n",
    "def misclassification_rate(fp, fn, total):\n",
    "    # Overall, how often is it wrong?\n",
    "    # (fp+fn)/total or 1 - Accuracy (aka error rate)\n",
    "    return (fp+fn)/total\n",
    "\n",
    "def TPrate(tp, actual_true):\n",
    "    # When it's actually yes, how often does it predict yes?\n",
    "    # tp/actual_true or 1 - FNrate (aka senstivity/recall)\n",
    "    return tp/actual_true\n",
    "\n",
    "def TNrate(tn, actual_false):\n",
    "    # When it's actually no, how often does it predict no?\n",
    "    # tn/actual_false or 1 - FPrate (aka specificity)\n",
    "    return tn/actual_false\n",
    "    \n",
    "def FPrate(fp, actual_false):\n",
    "    # When it's actually no, how often does it predict yes?\n",
    "    # fp/actual_false\n",
    "    return fp/actual_false\n",
    "\n",
    "def FNrate(fn, actual_true):\n",
    "    # when it's actually yes, how often does it predict no?\n",
    "    # fn/actual_true \n",
    "    return fn/actual_true"
   ]
  },
  {
   "cell_type": "code",
   "execution_count": 2,
   "metadata": {},
   "outputs": [],
   "source": [
    "# McFadden's R pseudo square\n",
    "class McFaddens_R2():\n",
    "    \n",
    "    def __init__(self, X,y_test,y_pred_prob):\n",
    "        self.X = X\n",
    "        self.y_test = y_test\n",
    "        self.y_pred_prob = y_pred_prob\n",
    "        self.LL_fit, self.LL_mean = 0, 0\n",
    "        self.log_likelihood_fit = []\n",
    "        \n",
    "    \n",
    "    def fit(self):\n",
    "        # calculating LL_fit\n",
    "        for i in range(len(self.y_test)):\n",
    "            if self.y_test[i]:\n",
    "                temp = math.log(self.y_pred_prob[i])\n",
    "                self.LL_fit += temp\n",
    "            else:\n",
    "                temp = math.log(1 - self.y_pred_prob[i])\n",
    "                self.LL_fit += temp\n",
    "            self.log_likelihood_fit.append(temp)\n",
    "        \n",
    "        # calculating LL_mean\n",
    "        overall_probability = df.iloc[:, -1].values.tolist().count(1)/X.shape[0]\n",
    "        for i in self.y_test:\n",
    "            if i:\n",
    "                self.LL_mean += math.log(overall_probability)\n",
    "            else:\n",
    "                self.LL_mean += math.log(1 - overall_probability)\n",
    "        \n",
    "        self.R2 = 1 - self.LL_fit / self.LL_mean\n",
    "        return self.R2"
   ]
  },
  {
   "cell_type": "code",
   "execution_count": null,
   "metadata": {},
   "outputs": [],
   "source": []
  }
 ],
 "metadata": {
  "kernelspec": {
   "display_name": "Python 3",
   "language": "python",
   "name": "python3"
  },
  "language_info": {
   "codemirror_mode": {
    "name": "ipython",
    "version": 3
   },
   "file_extension": ".py",
   "mimetype": "text/x-python",
   "name": "python",
   "nbconvert_exporter": "python",
   "pygments_lexer": "ipython3",
   "version": "3.8.3"
  }
 },
 "nbformat": 4,
 "nbformat_minor": 4
}
