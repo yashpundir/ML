{
 "cells": [
  {
   "cell_type": "markdown",
   "metadata": {},
   "source": [
    "#### Custom Simple NN for handwritten digit recognition"
   ]
  },
  {
   "cell_type": "code",
   "execution_count": 1,
   "metadata": {},
   "outputs": [],
   "source": [
    "import numpy as np\n",
    "import pandas as pd\n",
    "import matplotlib.pyplot as plt\n",
    "import math\n",
    "import random\n",
    "from sklearn.metrics import log_loss, confusion_matrix\n",
    "from sklearn.preprocessing import OneHotEncoder\n",
    "from utils import cm_ratios\n",
    "\n",
    "np.set_printoptions(suppress=True)"
   ]
  },
  {
   "cell_type": "code",
   "execution_count": 2,
   "metadata": {},
   "outputs": [],
   "source": [
    "from keras.datasets import mnist\n",
    "(X_train_og, Y_train_og), (X_test_og, Y_test_og) = mnist.load_data()"
   ]
  },
  {
   "cell_type": "code",
   "execution_count": 3,
   "metadata": {},
   "outputs": [
    {
     "data": {
      "text/plain": [
       "[]"
      ]
     },
     "execution_count": 3,
     "metadata": {},
     "output_type": "execute_result"
    },
    {
     "data": {
      "image/png": "[encoded data removed]",
      "text/plain": [
       "<Figure size 432x288 with 1 Axes>"
      ]
     },
     "metadata": {
      "needs_background": "light"
     },
     "output_type": "display_data"
    }
   ],
   "source": [
    "plt.figure()\n",
    "plt.imshow(X_train_og[45], cmap=plt.cm.gray)\n",
    "plt.title(Y_train_og[45])\n",
    "plt.plot()"
   ]
  },
  {
   "cell_type": "code",
   "execution_count": 4,
   "metadata": {},
   "outputs": [
    {
     "data": {
      "text/plain": [
       "[]"
      ]
     },
     "execution_count": 4,
     "metadata": {},
     "output_type": "execute_result"
    },
    {
     "data": {
      "image/png": "[encoded data removed]",
      "text/plain": [
       "<Figure size 432x288 with 1 Axes>"
      ]
     },
     "metadata": {
      "needs_background": "light"
     },
     "output_type": "display_data"
    }
   ],
   "source": [
    "stats = {key:Y_train_og.tolist().count(key) for key in range(10)}\n",
    "plt.figure('digits distribution')\n",
    "plt.bar(x=list(stats.keys()), height=list(stats.values()))\n",
    "plt.title('distribution', fontsize=17)\n",
    "plt.xlabel('digit', fontsize=12)\n",
    "plt.ylabel('count', fontsize=12)\n",
    "plt.plot()\n",
    "# evenly distributed dataset"
   ]
  },
  {
   "cell_type": "code",
   "execution_count": 5,
   "metadata": {},
   "outputs": [],
   "source": [
    "# normalize data\n",
    "X_train = X_train_og / 255\n",
    "X_test = X_test_og / 255\n",
    "# reshape data in order to feed into NN\n",
    "X_train = X_train.reshape(60000, 784)\n",
    "X_test = X_test.reshape(10000, 784)"
   ]
  },
  {
   "cell_type": "code",
   "execution_count": 6,
   "metadata": {},
   "outputs": [],
   "source": [
    "# OneHotEncoding the target variables in order to be able to use them in calculating cross entropy loss\n",
    "OHE = OneHotEncoder(sparse=False)\n",
    "Y_train = OHE.fit_transform(Y_train_og.reshape(60000,1))\n",
    "Y_test = OHE.fit_transform(Y_test_og.reshape(10000,1))"
   ]
  },
  {
   "cell_type": "code",
   "execution_count": 7,
   "metadata": {},
   "outputs": [],
   "source": [
    "# input layer = 28 x 28 (784)\n",
    "# dense layer1 = 100 relu\n",
    "# dense layer2 = 200 relu\n",
    "# dense layer3 = 200 relu\n",
    "# output dense layer = 10 softmax"
   ]
  },
  {
   "cell_type": "code",
   "execution_count": 13,
   "metadata": {},
   "outputs": [],
   "source": [
    "class shit_NN:\n",
    "    \"\"\"\n",
    "        X : training data of shape (f,m), where f = n_features, m = n_examples\n",
    "        Y : labels of shape (c,m), where c = n_classes, m = n_examples\n",
    "    \"\"\"\n",
    "    \n",
    "    def __init__(self, X, Y):\n",
    "        self.X = X\n",
    "        self.Y = Y\n",
    "        self.m = X.shape[1]\n",
    "        self.weights = {}\n",
    "        self.biases = {}\n",
    "        \n",
    "        # layer 2\n",
    "        self.weights['W1'] = np.random.randn(200,784)\n",
    "        self.biases['b1'] = np.random.randn(200,1)\n",
    "        # layer 3\n",
    "        self.weights['W2'] = np.random.randn(300,200)\n",
    "        self.biases['b2'] = np.random.randn(300,1)\n",
    "        # layer 4\n",
    "        self.weights['W3'] = np.random.randn(10,300)\n",
    "        self.biases['b3'] = np.random.randn(10,1)\n",
    "   \n",
    "    # ACTIVATION FUNCTIONS\n",
    "    def relu(self, Z):\n",
    "        return np.maximum(Z, 0)\n",
    "            \n",
    "    \n",
    "    def sigmoid(self, Z):\n",
    "        return 1 / (1 + np.exp(-Z))\n",
    "        \n",
    "        \n",
    "    def tanh(self, Z):\n",
    "        return np.tanh(Z)\n",
    "                \n",
    "        \n",
    "    def softmax(self, Z):\n",
    "        expZ = np.exp(Z - np.max(Z, axis=0))\n",
    "        return expZ / np.sum(expZ, axis=0)\n",
    "\n",
    "                \n",
    "    # COST FUNCTIONS\n",
    "    \n",
    "    def MSE(self, y_pred):\n",
    "        return (sum((self.Y - y_pred)**2)) / y_pred.shape[1]\n",
    "    \n",
    "    def log_loss(self, y_pred):\n",
    "        #return log_loss(self.Y, y_pred)\n",
    "        return - np.sum(self.Y * np.log(y_pred)) / y_pred.shape[1]\n",
    "    \n",
    "    def MAE(self, y_pred):\n",
    "         return np.sum(abs(self.Y - y_pred)) / y_pred.shape[1]\n",
    "\n",
    "    \n",
    "    \n",
    "    def compile_nn(self, epochs, alpha, metrics='accuracy'):\n",
    "        self.epochs = epochs\n",
    "        self.alpha = alpha\n",
    "        self.metrics = metrics\n",
    "        \n",
    "        \n",
    "    def predict(self, data):\n",
    "        Z1 = np.dot(self.weights['W1'], data) + self.biases['b1']\n",
    "        A1 = self.relu(Z1)\n",
    "\n",
    "        Z2 = np.dot(self.weights['W2'], A1) + self.biases['b2']\n",
    "        A2 = self.relu(Z2)\n",
    "\n",
    "        Z3 = np.dot(self.weights['W3'], A2) + self.biases['b3']\n",
    "        A3 = self.softmax(Z3)\n",
    "        \n",
    "        return A3.argmax(axis=0)\n",
    "        \n",
    "    \n",
    "    def predict_probs(self, data):\n",
    "        Z1 = np.dot(self.weights['W1'], data) + self.biases['b1']\n",
    "        A1 = self.relu(Z1)\n",
    "\n",
    "        Z2 = np.dot(self.weights['W2'], A1) + self.biases['b2']\n",
    "        A2 = self.relu(Z2)\n",
    "\n",
    "        Z3 = np.dot(self.weights['W3'], A2) + self.biases['b3']\n",
    "        A3 = self.softmax(Z3)\n",
    "        \n",
    "        return A3.T\n",
    "        \n",
    "    def fit(self):\n",
    "        \n",
    "        for epoch in range(1, self.epochs+1):\n",
    "        \n",
    "            # forward prop\n",
    "            Z1 = np.dot(self.weights['W1'], self.X) + self.biases['b1']\n",
    "            A1 = self.relu(Z1)\n",
    "\n",
    "            Z2 = np.dot(self.weights['W2'], A1) + self.biases['b2']\n",
    "            A2 = self.relu(Z2)\n",
    "\n",
    "            Z3 = np.dot(self.weights['W3'], A2) + self.biases['b3']\n",
    "            A3 = self.softmax(Z3)\n",
    "\n",
    "            # calculate loss\n",
    "            if (epoch%10==0):\n",
    "                loss = self.log_loss(A3 + 1e-8)          # adding 10^-8 to A3 to avoid divide by 0 error in np.log\n",
    "                y_pred = np.argmax(A3, axis=0) == np.argmax(self.Y, axis=0) \n",
    "                accuracy = np.mean(y_pred) \n",
    "                print(f\"epoch : {epoch}\")\n",
    "                print(f\"loss : {loss.round(3)}, train_accuracy : {accuracy.round(3)}\\n\")\n",
    "\n",
    "            # bakward prop\n",
    "            dL_Z3 = A3 - self.Y\n",
    "\n",
    "            dL_W3 = np.dot(dL_Z3, A2.T) / self.m                                   # layer 3\n",
    "            dL_b3 = np.sum(dL_Z3, axis=1, keepdims=True) / self.m\n",
    "\n",
    "            dA2_Z2 = np.greater(Z2, 0).astype(int)     # relu derivative\n",
    "            dL_Z2 = np.dot(self.weights['W3'].T, dL_Z3) * dA2_Z2\n",
    "\n",
    "            dL_W2 = np.dot(dL_Z2, A1.T) / self.m                                    # layer 2\n",
    "            dL_b2 = np.sum(dL_Z2, axis=1, keepdims=True) / self.m\n",
    "  \n",
    "            dA1_Z1 = np.greater(Z1, 0).astype(int)     # relu derivative    \n",
    "            dL_Z1 = np.dot(self.weights['W2'].T, dL_Z2) * dA1_Z1\n",
    "\n",
    "            dL_W1 = np.dot(dL_Z1, self.X.T)/ self.m                                       # layer 1\n",
    "            dL_b1 = np.sum(dL_Z1, axis=1, keepdims=True)/ self.m\n",
    "            \n",
    "            # update parameters\n",
    "            self.weights['W1'] -= self.alpha * dL_W1\n",
    "            self.weights['W2'] -= self.alpha * dL_W2\n",
    "            self.weights['W3'] -= self.alpha * dL_W3\n",
    "            \n",
    "            self.biases['b1'] -= self.alpha * dL_b1\n",
    "            self.biases['b2'] -= self.alpha * dL_b2\n",
    "            self.biases['b3'] -= self.alpha * dL_b3\n",
    "                           \n",
    "    def accuracy_score(self, y_pred, Y_true):\n",
    "        compare = y_pred == Y_true\n",
    "        return np.mean(compare)"
   ]
  },
  {
   "cell_type": "code",
   "execution_count": 10,
   "metadata": {},
   "outputs": [],
   "source": [
    "class shit_NN:\n",
    "    \"\"\"\n",
    "        X : training data of shape (f,m), where f = n_features, m = n_examples\n",
    "        Y : labels of shape (c,m), where c = n_classes, m = n_examples\n",
    "    \"\"\"\n",
    "    \n",
    "    def __init__(self, X, Y):\n",
    "        self.X = X\n",
    "        self.Y = Y\n",
    "        self.m = X.shape[1]\n",
    "        self.weights = {}\n",
    "        self.bias = {}\n",
    "        \n",
    "        # layer 2\n",
    "        self.weights['W1'] = np.random.randn(100,784)\n",
    "        self.bias['b1'] = np.random.randn(100,1)\n",
    "        # layer 3\n",
    "        self.weights['W2'] = np.random.randn(100,100)\n",
    "        self.bias['b2'] = np.random.randn(100,1)\n",
    "        # layer 4\n",
    "        self.weights['W3'] = np.random.randn(100,100)\n",
    "        self.bias['b3'] = np.random.randn(100,1)\n",
    "        # layer 5\n",
    "        self.weights['W4'] = np.random.randn(10,100)\n",
    "        self.bias['b4'] = np.random.randn(10,1)\n",
    "        \n",
    "    # ACTIVATION FUNCTIONS\n",
    "    def relu(self, Z):\n",
    "        return np.maximum(Z, 0)\n",
    "            \n",
    "    \n",
    "    def sigmoid(self, Z):\n",
    "        return 1 / (1 + np.exp(-Z))\n",
    "        \n",
    "        \n",
    "    def tanh(self, Z):\n",
    "        return np.tanh(Z)\n",
    "                \n",
    "        \n",
    "    def softmax(self, Z):\n",
    "        expZ = np.exp(Z - np.max(Z, axis=0))\n",
    "        return expZ / np.sum(expZ, axis=0)\n",
    "\n",
    "                \n",
    "    # COST FUNCTIONS\n",
    "    \n",
    "    def MSE(self, y_pred):\n",
    "        return (sum((self.Y - y_pred)**2)) / y_pred.shape[1]\n",
    "    \n",
    "    def log_loss(self, y_pred):\n",
    "        #return log_loss(self.Y, y_pred)\n",
    "        return - np.sum(self.Y * np.log(y_pred)) / y_pred.shape[1]\n",
    "    \n",
    "    def MAE(self, y_pred):\n",
    "         return np.sum(abs(self.Y - y_pred)) / y_pred.shape[1]\n",
    "\n",
    "    \n",
    "    \n",
    "    def compile_nn(self, epochs, alpha, metrics='accuracy'):\n",
    "        self.epochs = epochs\n",
    "        self.alpha = alpha\n",
    "        self.metrics = metrics\n",
    "        \n",
    "        \n",
    "    def predict(self, data):\n",
    "        result = self.predict_probs(data)\n",
    "        \n",
    "        return result.argmax(axis=1)\n",
    "        \n",
    "    \n",
    "    def predict_probs(self, data):\n",
    "        Z1 = np.dot(self.weights['W1'], data) + self.bias['b1']\n",
    "        A1 = self.relu(Z1)\n",
    "\n",
    "        Z2 = np.dot(self.weights['W2'], A1) + self.bias['b2']\n",
    "        A2 = self.relu(Z2)\n",
    "\n",
    "        Z3 = np.dot(self.weights['W3'], A2) + self.bias['b3']\n",
    "        A3 = self.relu(Z3)\n",
    "        \n",
    "        Z4 = np.dot(self.weights['W4'], A3) + self.bias['b4']\n",
    "        A4 = self.softmax(Z4)\n",
    "        \n",
    "        return A4.T\n",
    "        \n",
    "    def fit(self):\n",
    "        \n",
    "        for epoch in range(1, self.epochs+1):\n",
    "        \n",
    "            # forward prop\n",
    "            Z1 = np.dot(self.weights['W1'], self.X) + self.bias['b1']\n",
    "            A1 = self.relu(Z1)\n",
    "\n",
    "            Z2 = np.dot(self.weights['W2'], A1) + self.bias['b2']\n",
    "            A2 = self.relu(Z2)\n",
    "\n",
    "            Z3 = np.dot(self.weights['W3'], A2) + self.bias['b3']\n",
    "            A3 = self.relu(Z3)\n",
    "            \n",
    "            Z4 = np.dot(self.weights['W4'], A3) + self.bias['b4']\n",
    "            A4 = self.softmax(Z4)\n",
    "\n",
    "            # calculate loss\n",
    "            if (epoch%10==0):\n",
    "                loss = self.log_loss(A4 + 1e-8)          # adding 10^-8 to A3 to avoid divide by 0 error in np.log\n",
    "                y_pred = np.argmax(A4, axis=0) == np.argmax(self.Y, axis=0) \n",
    "                accuracy = np.mean(y_pred) \n",
    "                print(f\"epoch : {epoch}\")\n",
    "                print(f\"loss : {loss.round(3)}, train_accuracy : {accuracy.round(3)}\\n\")\n",
    "\n",
    "            # bakward prop\n",
    "            dL_Z4 = A4 - self.Y\n",
    "            \n",
    "            dL_W4 = np.dot(dL_Z4, A3.T) / self.m                               # layer 4\n",
    "            dL_b4 = np.sum(dL_Z4, axis=1, keepdims=True) / self.m\n",
    "            \n",
    "            dA3_Z3 = np.greater(Z3, 0).astype(int)     # relu derivative\n",
    "            dL_Z3 = np.dot(self.weights['W4'].T, dL_Z4) * dA3_Z3 \n",
    "\n",
    "            dL_W3 = np.dot(dL_Z3, A2.T) / self.m                               # layer 3                          \n",
    "            dL_b3 = np.sum(dL_Z3, axis=1, keepdims=True) / self.m\n",
    "\n",
    "            dA2_Z2 = np.greater(Z2, 0).astype(int)     # relu derivative\n",
    "            dL_Z2 = np.dot(self.weights['W3'].T, dL_Z3) * dA2_Z2\n",
    "\n",
    "            dL_W2 = np.dot(dL_Z2, A1.T) / self.m                                # layer 2\n",
    "            dL_b2 = np.sum(dL_Z2, axis=1, keepdims=True) / self.m\n",
    "  \n",
    "            dA1_Z1 = np.greater(Z1, 0).astype(int)     # relu derivative    \n",
    "            dL_Z1 = np.dot(self.weights['W2'].T, dL_Z2) * dA1_Z1\n",
    "\n",
    "            dL_W1 = np.dot(dL_Z1, self.X.T)/ self.m                             # layer 1\n",
    "            dL_b1 = np.sum(dL_Z1, axis=1, keepdims=True)/ self.m\n",
    "            \n",
    "            # update parameters\n",
    "            self.weights['W1'] -= self.alpha * dL_W1\n",
    "            self.weights['W2'] -= self.alpha * dL_W2\n",
    "            self.weights['W3'] -= self.alpha * dL_W3\n",
    "            self.weights['W4'] -= self.alpha * dL_W4\n",
    "            \n",
    "            self.bias['b1'] -= self.alpha * dL_b1\n",
    "            self.bias['b2'] -= self.alpha * dL_b2\n",
    "            self.bias['b3'] -= self.alpha * dL_b3\n",
    "            self.bias['b4'] -= self.alpha * dL_b4\n",
    "                           \n",
    "    def accuracy_score(self, y_pred, Y_true):\n",
    "        compare = y_pred == Y_true\n",
    "        return np.mean(compare)"
   ]
  },
  {
   "cell_type": "code",
   "execution_count": 9,
   "metadata": {},
   "outputs": [],
   "source": [
    "# CONFUSING MATH\n",
    "\n",
    "# The softmax function makes it complicated and it is easier to analyse and calculate the derivatives when the\n",
    "# the output layer is considered different from the last layer Z_n, and b/w that Z_n and output layer, softmax \n",
    "# is applied. The output of each neuron is dependent on all the outputs of \n",
    "# previous layer. Therefore there are multiple 'paths' from the Cost function to each weight and the derivatives\n",
    "# through all that paths must averaged to find the derivative of J w.r.t a particular weight."
   ]
  },
  {
   "cell_type": "code",
   "execution_count": 10,
   "metadata": {},
   "outputs": [],
   "source": [
    "# AWESOME ARTICLES \n",
    "# https://medium.com/@zeeshanmulla/cost-activation-loss-function-neural-network-deep-learning-what-are-these-91167825a4de\n",
    "# https://stackoverflow.com/questions/40575841/numpy-calculate-the-derivative-of-the-softmax-function\n",
    "# https://stats.stackexchange.com/questions/235528/backpropagation-with-softmax-cross-entropy\n",
    "# https://www.youtube.com/watch?v=5-rVLSc2XdE\n",
    "# https://eli.thegreenplace.net/2016/the-softmax-function-and-its-derivative/\n",
    "# http://www.adeveloperdiary.com/data-science/deep-learning/neural-network-with-softmax-in-python/"
   ]
  },
  {
   "cell_type": "code",
   "execution_count": 14,
   "metadata": {},
   "outputs": [],
   "source": [
    "network = shit_NN(X_train.T, Y_train.T)\n",
    "\n",
    "network.compile_nn(150, 0.02)\n",
    "# 4 layer network is not working :("
   ]
  },
  {
   "cell_type": "code",
   "execution_count": 15,
   "metadata": {},
   "outputs": [
    {
     "name": "stdout",
     "output_type": "stream",
     "text": [
      "epoch : 10\n",
      "loss : 7.145, train_accuracy : 0.603\n",
      "\n",
      "epoch : 20\n",
      "loss : 5.193, train_accuracy : 0.71\n",
      "\n",
      "epoch : 30\n",
      "loss : 4.413, train_accuracy : 0.752\n",
      "\n",
      "epoch : 40\n",
      "loss : 3.952, train_accuracy : 0.778\n",
      "\n",
      "epoch : 50\n",
      "loss : 3.645, train_accuracy : 0.794\n",
      "\n",
      "epoch : 60\n",
      "loss : 3.389, train_accuracy : 0.808\n",
      "\n",
      "epoch : 70\n",
      "loss : 3.208, train_accuracy : 0.818\n",
      "\n",
      "epoch : 80\n",
      "loss : 3.057, train_accuracy : 0.826\n",
      "\n",
      "epoch : 90\n",
      "loss : 2.929, train_accuracy : 0.833\n",
      "\n",
      "epoch : 100\n",
      "loss : 2.821, train_accuracy : 0.839\n",
      "\n",
      "epoch : 110\n",
      "loss : 2.731, train_accuracy : 0.843\n",
      "\n",
      "epoch : 120\n",
      "loss : 2.652, train_accuracy : 0.847\n",
      "\n",
      "epoch : 130\n",
      "loss : 2.574, train_accuracy : 0.851\n",
      "\n",
      "epoch : 140\n",
      "loss : 2.502, train_accuracy : 0.855\n",
      "\n",
      "epoch : 150\n",
      "loss : 2.44, train_accuracy : 0.858\n",
      "\n"
     ]
    }
   ],
   "source": [
    "network.fit()"
   ]
  },
  {
   "cell_type": "code",
   "execution_count": 16,
   "metadata": {},
   "outputs": [],
   "source": [
    "y_pred = network.predict(X_test.T)"
   ]
  },
  {
   "cell_type": "code",
   "execution_count": 17,
   "metadata": {},
   "outputs": [
    {
     "data": {
      "text/plain": [
       "0.8565"
      ]
     },
     "execution_count": 17,
     "metadata": {},
     "output_type": "execute_result"
    }
   ],
   "source": [
    "network.accuracy_score(y_pred, np.argmax(Y_test.T, axis=0))"
   ]
  },
  {
   "cell_type": "code",
   "execution_count": 18,
   "metadata": {},
   "outputs": [
    {
     "data": {
      "text/plain": [
       "[]"
      ]
     },
     "execution_count": 18,
     "metadata": {},
     "output_type": "execute_result"
    },
    {
     "data": {
      "image/png": "[encoded data removed]",
      "text/plain": [
       "<Figure size 432x288 with 1 Axes>"
      ]
     },
     "metadata": {
      "needs_background": "light"
     },
     "output_type": "display_data"
    }
   ],
   "source": [
    "sample = 232\n",
    "plt.imshow(X_test.T[:, sample].reshape((28,28)))\n",
    "plt.title(f'true : {Y_test_og[sample]} prediction : {y_pred[sample]}')\n",
    "plt.plot()\n",
    "# lol"
   ]
  },
  {
   "cell_type": "code",
   "execution_count": 22,
   "metadata": {},
   "outputs": [
    {
     "data": {
      "text/plain": [
       "[]"
      ]
     },
     "execution_count": 22,
     "metadata": {},
     "output_type": "execute_result"
    },
    {
     "data": {
      "image/png": "[encoded data removed]",
      "text/plain": [
       "<Figure size 432x288 with 1 Axes>"
      ]
     },
     "metadata": {
      "needs_background": "light"
     },
     "output_type": "display_data"
    }
   ],
   "source": [
    "sample = 221\n",
    "plt.imshow(X_test.T[:, sample].reshape((28,28)))\n",
    "plt.title(f'true : {Y_test_og[sample]} prediction : {y_pred[sample]}')\n",
    "plt.plot()\n",
    "# nice"
   ]
  },
  {
   "cell_type": "code",
   "execution_count": 20,
   "metadata": {},
   "outputs": [
    {
     "data": {
      "text/html": [
       "<div>\n",
       "<style scoped>\n",
       "    .dataframe tbody tr th:only-of-type {\n",
       "        vertical-align: middle;\n",
       "    }\n",
       "\n",
       "    .dataframe tbody tr th {\n",
       "        vertical-align: top;\n",
       "    }\n",
       "\n",
       "    .dataframe thead th {\n",
       "        text-align: right;\n",
       "    }\n",
       "</style>\n",
       "<table border=\"1\" class=\"dataframe\">\n",
       "  <thead>\n",
       "    <tr style=\"text-align: right;\">\n",
       "      <th></th>\n",
       "      <th>class</th>\n",
       "      <th>pred_count</th>\n",
       "      <th>true_count</th>\n",
       "      <th>error</th>\n",
       "    </tr>\n",
       "  </thead>\n",
       "  <tbody>\n",
       "    <tr>\n",
       "      <th>0</th>\n",
       "      <td>0</td>\n",
       "      <td>1008</td>\n",
       "      <td>980</td>\n",
       "      <td>-28</td>\n",
       "    </tr>\n",
       "    <tr>\n",
       "      <th>1</th>\n",
       "      <td>1</td>\n",
       "      <td>1128</td>\n",
       "      <td>1135</td>\n",
       "      <td>7</td>\n",
       "    </tr>\n",
       "    <tr>\n",
       "      <th>2</th>\n",
       "      <td>2</td>\n",
       "      <td>1005</td>\n",
       "      <td>1032</td>\n",
       "      <td>27</td>\n",
       "    </tr>\n",
       "    <tr>\n",
       "      <th>3</th>\n",
       "      <td>3</td>\n",
       "      <td>1009</td>\n",
       "      <td>1010</td>\n",
       "      <td>1</td>\n",
       "    </tr>\n",
       "    <tr>\n",
       "      <th>4</th>\n",
       "      <td>4</td>\n",
       "      <td>995</td>\n",
       "      <td>982</td>\n",
       "      <td>-13</td>\n",
       "    </tr>\n",
       "    <tr>\n",
       "      <th>5</th>\n",
       "      <td>5</td>\n",
       "      <td>897</td>\n",
       "      <td>892</td>\n",
       "      <td>-5</td>\n",
       "    </tr>\n",
       "    <tr>\n",
       "      <th>6</th>\n",
       "      <td>6</td>\n",
       "      <td>954</td>\n",
       "      <td>958</td>\n",
       "      <td>4</td>\n",
       "    </tr>\n",
       "    <tr>\n",
       "      <th>7</th>\n",
       "      <td>7</td>\n",
       "      <td>1024</td>\n",
       "      <td>1028</td>\n",
       "      <td>4</td>\n",
       "    </tr>\n",
       "    <tr>\n",
       "      <th>8</th>\n",
       "      <td>8</td>\n",
       "      <td>986</td>\n",
       "      <td>974</td>\n",
       "      <td>-12</td>\n",
       "    </tr>\n",
       "    <tr>\n",
       "      <th>9</th>\n",
       "      <td>9</td>\n",
       "      <td>994</td>\n",
       "      <td>1009</td>\n",
       "      <td>15</td>\n",
       "    </tr>\n",
       "  </tbody>\n",
       "</table>\n",
       "</div>"
      ],
      "text/plain": [
       "   class  pred_count  true_count  error\n",
       "0      0        1008         980    -28\n",
       "1      1        1128        1135      7\n",
       "2      2        1005        1032     27\n",
       "3      3        1009        1010      1\n",
       "4      4         995         982    -13\n",
       "5      5         897         892     -5\n",
       "6      6         954         958      4\n",
       "7      7        1024        1028      4\n",
       "8      8         986         974    -12\n",
       "9      9         994        1009     15"
      ]
     },
     "execution_count": 20,
     "metadata": {},
     "output_type": "execute_result"
    }
   ],
   "source": [
    "stats = pd.DataFrame({'class':list(range(10)),\n",
    "                      'pred_count':[y_pred.tolist().count(no) for no in range(10)],\n",
    "                      'true_count':[Y_test_og.tolist().count(no) for no in range(10)],\n",
    "                      'error':[Y_test_og.tolist().count(no) - y_pred.tolist().count(no) for no in range(10)]})\n",
    "\n",
    "stats"
   ]
  },
  {
   "cell_type": "code",
   "execution_count": 21,
   "metadata": {},
   "outputs": [
    {
     "data": {
      "text/plain": [
       "[]"
      ]
     },
     "execution_count": 21,
     "metadata": {},
     "output_type": "execute_result"
    },
    {
     "data": {
      "image/png": "[encoded data removed]",
      "text/plain": [
       "<Figure size 720x576 with 1 Axes>"
      ]
     },
     "metadata": {
      "needs_background": "light"
     },
     "output_type": "display_data"
    }
   ],
   "source": [
    "stats.iloc[:, 1:-1].plot(kind='bar',\n",
    "                       alpha=0.6,\n",
    "                       figsize=(10,8),\n",
    "                       stacked=False,\n",
    "                       color = ['royalblue', 'orangered'])\n",
    "plt.xlabel('classes', fontsize=15)\n",
    "plt.ylabel('count', fontsize=15)\n",
    "plt.title('ERRORS', fontsize=20)\n",
    "plt.plot()"
   ]
  },
  {
   "cell_type": "markdown",
   "metadata": {},
   "source": [
    "### Using tensorflow"
   ]
  },
  {
   "cell_type": "code",
   "execution_count": 23,
   "metadata": {},
   "outputs": [],
   "source": [
    "import tensorflow as tf"
   ]
  },
  {
   "cell_type": "code",
   "execution_count": 24,
   "metadata": {},
   "outputs": [],
   "source": [
    "from keras.datasets import mnist\n",
    "(X_train, Y_train), (X_test, Y_test) = mnist.load_data()"
   ]
  },
  {
   "cell_type": "code",
   "execution_count": 25,
   "metadata": {},
   "outputs": [],
   "source": [
    "# Normalize the train dataset\n",
    "X_train = tf.keras.utils.normalize(X_train, axis=1)\n",
    "# Normalize the test dataset\n",
    "X_test = tf.keras.utils.normalize(X_test, axis=1)"
   ]
  },
  {
   "cell_type": "code",
   "execution_count": 26,
   "metadata": {},
   "outputs": [],
   "source": [
    "# Same network structure (input, 6, 10, 10)\n",
    "#Build the model object\n",
    "model = tf.keras.models.Sequential()\n",
    "# Add the Flatten Layer\n",
    "model.add(tf.keras.layers.Flatten())\n",
    "# Build the input and the hidden layers\n",
    "model.add(tf.keras.layers.Dense(100, activation=tf.nn.relu))\n",
    "model.add(tf.keras.layers.Dense(200, activation=tf.nn.relu))\n",
    "# Build the output layer\n",
    "model.add(tf.keras.layers.Dense(10, activation=tf.nn.softmax))"
   ]
  },
  {
   "cell_type": "code",
   "execution_count": 27,
   "metadata": {},
   "outputs": [],
   "source": [
    "# Compile the model\n",
    "model.compile(optimizer=\"adam\", loss=\"sparse_categorical_crossentropy\", metrics=[\"accuracy\"])"
   ]
  },
  {
   "cell_type": "code",
   "execution_count": 28,
   "metadata": {},
   "outputs": [
    {
     "name": "stdout",
     "output_type": "stream",
     "text": [
      "Epoch 1/5\n",
      "1875/1875 [==============================] - 5s 2ms/step - loss: 0.2685 - accuracy: 0.9208\n",
      "Epoch 2/5\n",
      "1875/1875 [==============================] - 5s 2ms/step - loss: 0.1115 - accuracy: 0.9658\n",
      "Epoch 3/5\n",
      "1875/1875 [==============================] - 5s 3ms/step - loss: 0.0753 - accuracy: 0.9756\n",
      "Epoch 4/5\n",
      "1875/1875 [==============================] - 5s 2ms/step - loss: 0.0570 - accuracy: 0.9814\n",
      "Epoch 5/5\n",
      "1875/1875 [==============================] - 5s 3ms/step - loss: 0.0421 - accuracy: 0.9869\n"
     ]
    },
    {
     "data": {
      "text/plain": [
       "<tensorflow.python.keras.callbacks.History at 0x183e580b820>"
      ]
     },
     "execution_count": 28,
     "metadata": {},
     "output_type": "execute_result"
    }
   ],
   "source": [
    "model.fit(x=X_train, y=Y_train, epochs=5)"
   ]
  },
  {
   "cell_type": "code",
   "execution_count": 29,
   "metadata": {},
   "outputs": [
    {
     "name": "stdout",
     "output_type": "stream",
     "text": [
      "313/313 [==============================] - 1s 2ms/step - loss: 0.0885 - accuracy: 0.9757\n",
      "\n",
      "Test accuracy: 0.9757000207901001\n"
     ]
    }
   ],
   "source": [
    "# Evaluate the model performance\n",
    "test_loss, test_acc = model.evaluate(x=X_test, y=Y_test)\n",
    "# Print out the model accuracy \n",
    "print('\\nTest accuracy:', test_acc)"
   ]
  },
  {
   "cell_type": "code",
   "execution_count": 31,
   "metadata": {},
   "outputs": [],
   "source": [
    "# clearly, tflow is nothing compared to my implementation :P"
   ]
  }
 ],
 "metadata": {
  "kernelspec": {
   "display_name": "Python 3",
   "language": "python",
   "name": "python3"
  },
  "language_info": {
   "codemirror_mode": {
    "name": "ipython",
    "version": 3
   },
   "file_extension": ".py",
   "mimetype": "text/x-python",
   "name": "python",
   "nbconvert_exporter": "python",
   "pygments_lexer": "ipython3",
   "version": "3.8.3"
  }
 },
 "nbformat": 4,
 "nbformat_minor": 4
}
